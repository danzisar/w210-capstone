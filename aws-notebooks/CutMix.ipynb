{
 "cells": [
  {
   "cell_type": "markdown",
   "metadata": {},
   "source": [
    "## CutMix Implementation for Generating Datasets\n",
    "\n",
    "#### Citation: \n",
    "Yun, S., Han, D., Oh, S., Chun, S., Choe, J., & Yoo, Y. (2019). CutMix: Regularization Strategy to Train Strong Classifiers with Localizable Features. In International Conference on Computer Vision (ICCV)."
   ]
  },
  {
   "cell_type": "code",
   "execution_count": 36,
   "metadata": {},
   "outputs": [],
   "source": [
    "from ast import literal_eval\n",
    "import os\n",
    "import re\n",
    "import pandas as pd\n",
    "from glob import glob\n",
    "from pathlib import Path\n",
    "from collections import Counter \n",
    "import numpy as np\n",
    "from sklearn.metrics import classification_report\n",
    "import torchvision\n",
    "import torchvision.transforms as transforms\n",
    "from torchvision import datasets, transforms\n",
    "from torch.utils.data.dataset import Dataset\n",
    "from PIL import Image\n",
    "from mpl_toolkits.axes_grid1 import ImageGrid\n",
    "import torch\n",
    "from torch.utils.data.sampler import SubsetRandomSampler\n",
    "import seaborn as sns\n",
    "import pickle\n",
    "import matplotlib.pyplot as plt\n",
    "from matplotlib import pyplot\n",
    "%matplotlib inline\n",
    "\n",
    "pd.set_option('display.max_rows', 500)"
   ]
  },
  {
   "cell_type": "code",
   "execution_count": 25,
   "metadata": {},
   "outputs": [
    {
     "name": "stdout",
     "output_type": "stream",
     "text": [
      "Files already downloaded and verified\n",
      "Files already downloaded and verified\n"
     ]
    }
   ],
   "source": [
    "# Retrieve the official labels of the CIFAR10 test dataset\n",
    "# testset = torchvision.datasets.CIFAR10(root='../../data/cifar10/', train=False,\n",
    "#                                        download=True)\n",
    "# trainset = torchvision.datasets.CIFAR10(root='./data', train=True, download=True, transform=None)\n",
    "# test_labels_CIFAR10 = testset.targets\n",
    "# test_data_CIFAR10 = testset.data\n",
    "\n",
    "# # Retrieve the official labels of the CIFAR10.1 test dataset\n",
    "# test_labels_CIFAR101 =np.load('../data/cifar101/cifar10.1_v6_labels.npy')  \n",
    "# test_data_CIFAR101 = np.load('../data/cifar101/cifar10.1_v6_data.npy')"
   ]
  },
  {
   "cell_type": "markdown",
   "metadata": {},
   "source": [
    "#### Download the CIFAR10 dataset, normalize it, and place into a PyTorch DataLoader"
   ]
  },
  {
   "cell_type": "code",
   "execution_count": 414,
   "metadata": {},
   "outputs": [
    {
     "name": "stdout",
     "output_type": "stream",
     "text": [
      "Files already downloaded and verified\n"
     ]
    },
    {
     "data": {
      "text/plain": [
       "4"
      ]
     },
     "execution_count": 414,
     "metadata": {},
     "output_type": "execute_result"
    }
   ],
   "source": [
    "normalize = transforms.Normalize(mean=[x / 255.0 for x in [125.3, 123.0, 113.9]],\n",
    "                                 std=[x / 255.0 for x in [63.0, 62.1, 66.7]])\n",
    "my_transforms = transforms.Compose([transforms.ToTensor(), normalize])\n",
    "\n",
    "dataset = datasets.CIFAR10(\"data\", download=True,\n",
    "                 train=True, transform=transforms.ToTensor())\n",
    "\n",
    "dataset_size = len(dataset)\n",
    "indices = list(range(dataset_size))\n",
    "split = int(np.floor(.0003 * dataset_size))\n",
    "train_indices, val_indices = indices[split:], indices[:split]\n",
    "\n",
    "dataloader = torch.utils.data.DataLoader(dataset, batch_size=int(len(val_indices)/3),\n",
    "                                         sampler=SubsetRandomSampler(val_indices)) \n",
    "len(dataloader)"
   ]
  },
  {
   "cell_type": "markdown",
   "metadata": {},
   "source": [
    "#### Functions that implement CutMix"
   ]
  },
  {
   "cell_type": "code",
   "execution_count": 456,
   "metadata": {},
   "outputs": [],
   "source": [
    "def rand_bbox(size, lam):\n",
    "    W = size[2]\n",
    "    H = size[3]\n",
    "    cut_rat = np.sqrt(1. - lam)\n",
    "    cut_w = np.int(W * cut_rat)\n",
    "    cut_h = np.int(H * cut_rat)\n",
    "\n",
    "    # uniform\n",
    "    cx = np.random.randint(W)\n",
    "    cy = np.random.randint(H)\n",
    "\n",
    "    bbx1 = np.clip(cx - cut_w // 2, 0, W)\n",
    "    bby1 = np.clip(cy - cut_h // 2, 0, H)\n",
    "    bbx2 = np.clip(cx + cut_w // 2, 0, W)\n",
    "    bby2 = np.clip(cy + cut_h // 2, 0, H)\n",
    "\n",
    "    return bbx1, bby1, bbx2, bby2\n",
    "\n",
    "\n",
    "def cutmix_ds(beta, cutmix_prob, my_dataloader):\n",
    "\n",
    "    results = []\n",
    "    label_one = np.array([])\n",
    "    label_two = np.array([])\n",
    "    lambdas = np.array([])\n",
    "\n",
    "    for i, (input, target) in enumerate(my_dataloader):\n",
    "            # measure data loading time\n",
    "\n",
    "             r = np.random.rand(1)\n",
    "             if beta > 0 and r < cutmix_prob:\n",
    "                # generate mixed sample\n",
    "                lam = np.random.beta(beta, beta)\n",
    "                rand_index = torch.randperm(input.size()[0])\n",
    "                target_a = target\n",
    "                target_b = target[rand_index]\n",
    "                bbx1, bby1, bbx2, bby2 = rand_bbox(input.size(), lam)\n",
    "                input[:, :, bbx1:bbx2, bby1:bby2] = input[rand_index, :, bbx1:bbx2, bby1:bby2]\n",
    "\n",
    "                # adjust lambda to exactly match pixel ratio\n",
    "                lam = 1 - ((bbx2 - bbx1) * (bby2 - bby1) / (input.size()[-1] * input.size()[-2]))\n",
    "\n",
    "                results.append(input)\n",
    "                label_one = np.append(label_one, target_a.numpy())\n",
    "                label_two = np.append(label_two, target_b.numpy())\n",
    "                lambdas = np.append(lambdas, np.repeat(lam, len(target_b.numpy())))\n",
    "                \n",
    "    flat_results = [item for items in results for item in items]            \n",
    "    my_labels = [(l1, l2, l) for l1, l2, l in zip(label_one, label_two, lambdas)]\n",
    "    return flat_results, my_labels "
   ]
  },
  {
   "cell_type": "code",
   "execution_count": 457,
   "metadata": {},
   "outputs": [],
   "source": [
    "cm_data, cm_labels = cutmix_ds(1.0, 1.0, dataloader)"
   ]
  },
  {
   "cell_type": "markdown",
   "metadata": {},
   "source": [
    "### Save and Load the PyTorch Data"
   ]
  },
  {
   "cell_type": "code",
   "execution_count": 462,
   "metadata": {},
   "outputs": [],
   "source": [
    "torch.save(cm_data, './test_cutmix_beta1_prob1.pt')\n",
    "np.save('./test_cutmix_beta1_prob1_labels.npy', cm_labels)"
   ]
  },
  {
   "cell_type": "code",
   "execution_count": 463,
   "metadata": {},
   "outputs": [],
   "source": [
    "my_load = torch.load('./test_cutmix_beta1_prob1.pt')\n",
    "my_label = np.load('./test_cutmix_beta1_prob1_labels.npy', allow_pickle=True)"
   ]
  },
  {
   "cell_type": "code",
   "execution_count": 464,
   "metadata": {},
   "outputs": [
    {
     "data": {
      "image/png": "[encoded data removed]",
      "text/plain": [
       "<Figure size 432x288 with 9 Axes>"
      ]
     },
     "metadata": {
      "needs_background": "light"
     },
     "output_type": "display_data"
    }
   ],
   "source": [
    "for i in range(9):\n",
    "    plt.subplot(330 + 1 + i)\n",
    "    img = my_load[i]\n",
    "    image=torch.squeeze(img)\n",
    "    image=transforms.ToPILImage()(image)\n",
    "    plt.imshow(image)\n",
    "# show the figure\n",
    "plt.show()"
   ]
  },
  {
   "cell_type": "code",
   "execution_count": 227,
   "metadata": {},
   "outputs": [
    {
     "data": {
      "text/plain": [
       "array([[array([9, 7, 2, 9, 9, 8, 4, 5, 6, 3, 0, 7, 9, 8, 1, 2, 2, 9, 3, 0, 5, 0,\n",
       "       6, 5, 3, 3, 9, 1, 1, 5, 1, 9, 0, 4, 8, 6, 3, 0, 5, 5, 6, 8, 5, 1,\n",
       "       9, 3, 6, 1, 7, 1, 2, 6, 6, 9, 5, 6, 3, 2, 7, 1, 7, 9, 1, 7, 5, 3,\n",
       "       6, 0, 6, 6, 1, 9, 5, 6, 5, 7, 9, 8, 6, 0, 1, 6, 2, 0, 7, 3, 4, 1,\n",
       "       0, 0, 3, 8, 1, 9, 6, 6, 4, 8, 1, 4, 7, 4, 6, 5, 3, 2, 7, 2, 9, 8,\n",
       "       1, 1, 9, 5, 2, 3, 5, 2, 4, 7, 2, 5, 6, 6, 2, 9, 1, 2, 8, 9, 8, 9,\n",
       "       1, 9, 4, 4, 6, 6, 2, 1, 7, 5, 3, 5, 4, 0, 6, 9, 1, 9, 7, 2, 3, 4,\n",
       "       1, 6, 6, 8, 4, 7, 9, 1, 0, 6, 0, 7, 8, 1, 7, 4, 3, 3, 7, 7, 8, 4,\n",
       "       2, 5, 9, 9, 2, 1, 2, 2, 7, 3, 0, 9, 9, 6, 4, 3, 3, 6, 1, 4, 8, 3,\n",
       "       9, 1, 7, 1, 2, 3, 1, 6, 0, 6, 5, 8, 1, 8, 1, 5, 6, 6, 7, 8, 3, 1,\n",
       "       1, 8, 4, 1, 6, 6, 1, 9, 2, 4, 4, 3, 0, 0, 5, 7, 7, 3, 2, 9, 0, 3,\n",
       "       8, 5, 2, 4, 7, 1, 8, 8]),\n",
       "        array([2, 3, 5, 2, 8, 3, 9, 4, 8, 6, 9, 6, 8, 1, 9, 6, 8, 8, 6, 6, 9, 4,\n",
       "       7, 8, 7, 3, 9, 3, 1, 7, 4, 8, 0, 5, 0, 7, 3, 5, 5, 6, 1, 7, 2, 6,\n",
       "       9, 8, 9, 7, 3, 4, 3, 8, 8, 0, 5, 6, 8, 9, 7, 0, 3, 0, 8, 1, 2, 9,\n",
       "       0, 4, 6, 2, 1, 8, 2, 1, 4, 2, 9, 7, 1, 5, 9, 0, 3, 2, 5, 3, 6, 0,\n",
       "       1, 1, 2, 7, 2, 1, 8, 6, 2, 1, 1, 2, 2, 5, 5, 9, 5, 8, 9, 4, 6, 5,\n",
       "       9, 7, 0, 2, 3, 0, 1, 6, 7, 6, 9, 6, 8, 1, 3, 2, 2, 1, 5, 9, 8, 3,\n",
       "       5, 1, 7, 6, 6, 3, 1, 6, 1, 1, 6, 1, 7, 7, 6, 7, 5, 7, 3, 7, 3, 9,\n",
       "       6, 5, 4, 8, 1, 1, 6, 0, 6, 6, 4, 9, 9, 4, 1, 9, 9, 7, 1, 0, 1, 8,\n",
       "       6, 5, 4, 1, 5, 1, 4, 3, 4, 0, 4, 1, 4, 1, 2, 7, 6, 7, 0, 0, 6, 9,\n",
       "       9, 6, 3, 0, 1, 9, 0, 3, 3, 2, 6, 1, 7, 4, 5, 1, 0, 5, 2, 1, 6, 6,\n",
       "       1, 6, 2, 4, 8, 9, 9, 5, 6, 8, 3, 1, 3, 4, 9, 7, 5, 3, 9, 7, 2, 4,\n",
       "       2, 3, 5, 7, 4, 3, 2, 9]),\n",
       "        0.90234375]], dtype=object)"
      ]
     },
     "execution_count": 227,
     "metadata": {},
     "output_type": "execute_result"
    }
   ],
   "source": [
    "my_label"
   ]
  },
  {
   "cell_type": "markdown",
   "metadata": {},
   "source": [
    "### SCRATCH"
   ]
  },
  {
   "cell_type": "code",
   "execution_count": 461,
   "metadata": {},
   "outputs": [
    {
     "name": "stdout",
     "output_type": "stream",
     "text": [
      "<class 'torch.Tensor'>\n",
      "<class 'PIL.Image.Image'>\n"
     ]
    },
    {
     "data": {
      "text/plain": [
       "<matplotlib.image.AxesImage at 0x1a39f82710>"
      ]
     },
     "execution_count": 461,
     "metadata": {},
     "output_type": "execute_result"
    },
    {
     "data": {
      "image/png": "[encoded data removed]",
      "text/plain": [
       "<Figure size 432x288 with 1 Axes>"
      ]
     },
     "metadata": {
      "needs_background": "light"
     },
     "output_type": "display_data"
    }
   ],
   "source": [
    "# To convert a tensor to an image\n",
    "img = cm_data[4]\n",
    "image=torch.squeeze(img)\n",
    "print(type(image))\n",
    "image=transforms.ToPILImage()(image)\n",
    "print(type(image))\n",
    "plt.imshow(image)"
   ]
  },
  {
   "cell_type": "code",
   "execution_count": null,
   "metadata": {},
   "outputs": [],
   "source": []
  }
 ],
 "metadata": {
  "kernelspec": {
   "display_name": "Python 3",
   "language": "python",
   "name": "python3"
  },
  "language_info": {
   "codemirror_mode": {
    "name": "ipython",
    "version": 3
   },
   "file_extension": ".py",
   "mimetype": "text/x-python",
   "name": "python",
   "nbconvert_exporter": "python",
   "pygments_lexer": "ipython3",
   "version": "3.7.6"
  }
 },
 "nbformat": 4,
 "nbformat_minor": 4
}
