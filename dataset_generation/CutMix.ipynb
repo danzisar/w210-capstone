{
 "cells": [
  {
   "cell_type": "markdown",
   "metadata": {},
   "source": [
    "## CutMix Implementation for Generating Datasets\n",
    "\n",
    "#### Citation: \n",
    "Yun, S., Han, D., Oh, S., Chun, S., Choe, J., & Yoo, Y. (2019). CutMix: Regularization Strategy to Train Strong Classifiers with Localizable Features. In International Conference on Computer Vision (ICCV)."
   ]
  },
  {
   "cell_type": "code",
   "execution_count": 1,
   "metadata": {},
   "outputs": [],
   "source": [
    "from ast import literal_eval\n",
    "import boto3\n",
    "import os\n",
    "import pandas as pd\n",
    "from glob import glob\n",
    "from pathlib import Path\n",
    "from collections import Counter \n",
    "import numpy as np\n",
    "import torchvision\n",
    "import torchvision.transforms as transforms\n",
    "from torchvision import datasets, transforms\n",
    "from torch.utils.data.dataset import Dataset\n",
    "from PIL import Image\n",
    "from mpl_toolkits.axes_grid1 import ImageGrid\n",
    "import torch\n",
    "from torch.utils.data.sampler import SubsetRandomSampler\n",
    "import pickle\n",
    "import datetime\n",
    "import logging\n",
    "\n",
    "pd.set_option('display.max_rows', 500)"
   ]
  },
  {
   "cell_type": "markdown",
   "metadata": {},
   "source": [
    "#### Download the CIFAR10 dataset, normalize it, and place into a PyTorch DataLoader"
   ]
  },
  {
   "cell_type": "code",
   "execution_count": 2,
   "metadata": {},
   "outputs": [
    {
     "name": "stdout",
     "output_type": "stream",
     "text": [
      "Downloading https://www.cs.toronto.edu/~kriz/cifar-10-python.tar.gz to data/cifar-10-python.tar.gz\n"
     ]
    },
    {
     "data": {
      "application/vnd.jupyter.widget-view+json": {
       "model_id": "79642f561b9c45c1a055f49890c9051b",
       "version_major": 2,
       "version_minor": 0
      },
      "text/plain": [
       "HBox(children=(FloatProgress(value=1.0, bar_style='info', max=1.0), HTML(value='')))"
      ]
     },
     "metadata": {},
     "output_type": "display_data"
    },
    {
     "name": "stdout",
     "output_type": "stream",
     "text": [
      "Extracting data/cifar-10-python.tar.gz to data\n"
     ]
    },
    {
     "data": {
      "text/plain": [
       "500"
      ]
     },
     "execution_count": 2,
     "metadata": {},
     "output_type": "execute_result"
    }
   ],
   "source": [
    "normalize = transforms.Normalize(mean=[x / 255.0 for x in [125.3, 123.0, 113.9]],\n",
    "                                 std=[x / 255.0 for x in [63.0, 62.1, 66.7]])\n",
    "my_transforms = transforms.Compose([transforms.ToTensor(), normalize])\n",
    "\n",
    "dataset = datasets.CIFAR10(\"data\", download=True,\n",
    "                 train=True, transform=transforms.ToTensor())\n",
    "\n",
    "dataloader = torch.utils.data.DataLoader(dataset, batch_size=100) \n",
    "len(dataloader)"
   ]
  },
  {
   "cell_type": "markdown",
   "metadata": {},
   "source": [
    "#### Functions that implement CutMix"
   ]
  },
  {
   "cell_type": "code",
   "execution_count": 3,
   "metadata": {},
   "outputs": [],
   "source": [
    "def rand_bbox(size, lam):\n",
    "    W = size[2]\n",
    "    H = size[3]\n",
    "    cut_rat = np.sqrt(1. - lam)\n",
    "    cut_w = np.int(W * cut_rat)\n",
    "    cut_h = np.int(H * cut_rat)\n",
    "\n",
    "    # uniform\n",
    "    cx = np.random.randint(W)\n",
    "    cy = np.random.randint(H)\n",
    "\n",
    "    bbx1 = np.clip(cx - cut_w // 2, 0, W)\n",
    "    bby1 = np.clip(cy - cut_h // 2, 0, H)\n",
    "    bbx2 = np.clip(cx + cut_w // 2, 0, W)\n",
    "    bby2 = np.clip(cy + cut_h // 2, 0, H)\n",
    "\n",
    "    return bbx1, bby1, bbx2, bby2\n",
    "\n",
    "\n",
    "def cutmix_ds(beta, cutmix_prob, my_dataloader):\n",
    "    log_file = '/home/ec2-user/SageMaker/cifar10_cm_beta'+str(beta)+'_prob'+str(cutmix_prob)+'.log'\n",
    "    logging.basicConfig(filename=log_file,level=logging.DEBUG)\n",
    "    logger = logging.getLogger()\n",
    "    results = []\n",
    "    label_one = np.array([])\n",
    "    label_two = np.array([])\n",
    "    lambdas = np.array([])\n",
    "\n",
    "    for i, (input, target) in enumerate(my_dataloader):\n",
    "        # measure run time\n",
    "        start = datetime.datetime.now()\n",
    "\n",
    "        r = np.random.rand(1)\n",
    "        if beta > 0 and r < cutmix_prob:\n",
    "            # generate mixed sample\n",
    "            lam = np.random.beta(beta, beta)\n",
    "            rand_index = torch.randperm(input.size()[0])\n",
    "            target_a = target\n",
    "            target_b = target[rand_index]\n",
    "            bbx1, bby1, bbx2, bby2 = rand_bbox(input.size(), lam)\n",
    "            input[:, :, bbx1:bbx2, bby1:bby2] = input[rand_index, :, bbx1:bbx2, bby1:bby2]\n",
    "\n",
    "            # adjust lambda to exactly match pixel ratio\n",
    "            lam = 1 - ((bbx2 - bbx1) * (bby2 - bby1) / (input.size()[-1] * input.size()[-2]))\n",
    "\n",
    "            results.append(input)\n",
    "            label_one = np.append(label_one, target_a.numpy())\n",
    "            label_two = np.append(label_two, target_b.numpy())\n",
    "            lambdas = np.append(lambdas, np.repeat(lam, len(target_b.numpy())))\n",
    "        else:\n",
    "            results.append(input)\n",
    "            label_one = np.append(label_one, target.numpy())\n",
    "            label_two = np.append(label_two, np.repeat(0, len(target.numpy())))\n",
    "            lambdas = np.append(lambdas, np.repeat(1.0, len(target.numpy())))\n",
    "            \n",
    "            \n",
    "        end = datetime.datetime.now()\n",
    "        d = end - start\n",
    "        mssg = \"  Batch \" + str(i) + '  Processing Time: ' + str(d) + ' seconds'\n",
    "        logger.debug(mssg)\n",
    "                \n",
    "    flat_results = [item for items in results for item in items]            \n",
    "    my_labels = [(l1, l2, l) for l1, l2, l in zip(label_one, label_two, lambdas)]\n",
    "    \n",
    "    for handler in logging.root.handlers[:]:\n",
    "        logging.root.removeHandler(handler)\n",
    "        \n",
    "        \n",
    "    return flat_results, my_labels "
   ]
  },
  {
   "cell_type": "markdown",
   "metadata": {},
   "source": [
    "#### Generate Datasets"
   ]
  },
  {
   "cell_type": "code",
   "execution_count": 55,
   "metadata": {},
   "outputs": [],
   "source": [
    "cm_data1, cm_labels1 = cutmix_ds(1.0, 1.0, dataloader)\n",
    "cm_data2, cm_labels2 = cutmix_ds(1.0, 0.5, dataloader)\n",
    "cm_data3, cm_labels3 = cutmix_ds(1.0, 0.25, dataloader)\n",
    "cm_data4, cm_labels4 = cutmix_ds(1.0, 1.5, dataloader)"
   ]
  },
  {
   "cell_type": "code",
   "execution_count": 56,
   "metadata": {},
   "outputs": [
    {
     "name": "stdout",
     "output_type": "stream",
     "text": [
      "50000 50000\n"
     ]
    }
   ],
   "source": [
    "print(len(cm_labels1), len(cm_data1))"
   ]
  },
  {
   "cell_type": "markdown",
   "metadata": {},
   "source": [
    "### Save and Load the PyTorch Data"
   ]
  },
  {
   "cell_type": "code",
   "execution_count": 6,
   "metadata": {},
   "outputs": [],
   "source": [
    "base_dir = '/home/ec2-user/SageMaker/'\n",
    "base_filename = 'cifar10_cm_beta1_prob1.5'\n",
    "\n",
    "data_file = base_filename + '_data.pt'\n",
    "data_full = base_dir + data_file\n",
    "labels_file = base_filename + '_labels.npy'\n",
    "labels_full = base_dir + labels_file\n",
    "\n",
    "torch.save(cm_data1, data_full)\n",
    "np.save(labels_full, cm_labels1)"
   ]
  },
  {
   "cell_type": "code",
   "execution_count": 7,
   "metadata": {},
   "outputs": [],
   "source": [
    "# Upload the files to S3\n",
    "bucket='sagemaker-june29'\n",
    "prefix = 'sagemaker/CutMix/'\n",
    "path = '/home/ec2-user/SageMaker/'\n",
    "\n",
    "s3_resource = boto3.resource(\"s3\", region_name=\"us-east-2\")\n",
    "my_bucket = s3_resource.Bucket(bucket)\n",
    "my_bucket.upload_file(data_full, prefix + data_file)\n",
    "my_bucket.upload_file(labels_full, prefix + labels_file)"
   ]
  },
  {
   "cell_type": "markdown",
   "metadata": {},
   "source": [
    "#### Verify Data"
   ]
  },
  {
   "cell_type": "code",
   "execution_count": 41,
   "metadata": {},
   "outputs": [
    {
     "name": "stdout",
     "output_type": "stream",
     "text": [
      "50000 50000\n"
     ]
    }
   ],
   "source": [
    "my_load = torch.load('/home/ec2-user/SageMaker/cifar10_cm_beta1_prob1_data.pt')\n",
    "my_label = np.load('/home/ec2-user/SageMaker/cifar10_cm_beta1_prob1_labels.npy', allow_pickle=True)\n",
    "print(len(my_load), len(my_label))"
   ]
  },
  {
   "cell_type": "code",
   "execution_count": 17,
   "metadata": {},
   "outputs": [
    {
     "data": {
      "image/png": "[encoded data removed]",
      "text/plain": [
       "<Figure size 432x288 with 9 Axes>"
      ]
     },
     "metadata": {},
     "output_type": "display_data"
    }
   ],
   "source": [
    "for i in range(9):\n",
    "    plt.subplot(330 + 1 + i)\n",
    "    img = cm_data[i]\n",
    "    image=torch.squeeze(img)\n",
    "    image=transforms.ToPILImage()(image)\n",
    "    plt.imshow(image)\n",
    "# show the figure\n",
    "plt.show()"
   ]
  },
  {
   "cell_type": "code",
   "execution_count": null,
   "metadata": {},
   "outputs": [],
   "source": []
  }
 ],
 "metadata": {
  "kernelspec": {
   "display_name": "conda_pytorch_p36",
   "language": "python",
   "name": "conda_pytorch_p36"
  },
  "language_info": {
   "codemirror_mode": {
    "name": "ipython",
    "version": 3
   },
   "file_extension": ".py",
   "mimetype": "text/x-python",
   "name": "python",
   "nbconvert_exporter": "python",
   "pygments_lexer": "ipython3",
   "version": "3.6.10"
  },
  "nbdime-conflicts": {
   "local_diff": [
    {
     "diff": [
      {
       "diff": [
        {
         "key": 0,
         "op": "addrange",
         "valuelist": [
          "conda_amazonei_mxnet_p36"
         ]
        },
        {
         "key": 0,
         "length": 1,
         "op": "removerange"
        }
       ],
       "key": "display_name",
       "op": "patch"
      },
      {
       "diff": [
        {
         "key": 0,
         "op": "addrange",
         "valuelist": [
          "conda_amazonei_mxnet_p36"
         ]
        },
        {
         "key": 0,
         "length": 1,
         "op": "removerange"
        }
       ],
       "key": "name",
       "op": "patch"
      }
     ],
     "key": "kernelspec",
     "op": "patch"
    }
   ],
   "remote_diff": [
    {
     "diff": [
      {
       "diff": [
        {
         "key": 0,
         "op": "addrange",
         "valuelist": [
          "conda_pytorch_p36"
         ]
        },
        {
         "key": 0,
         "length": 1,
         "op": "removerange"
        }
       ],
       "key": "display_name",
       "op": "patch"
      },
      {
       "diff": [
        {
         "key": 0,
         "op": "addrange",
         "valuelist": [
          "conda_pytorch_p36"
         ]
        },
        {
         "key": 0,
         "length": 1,
         "op": "removerange"
        }
       ],
       "key": "name",
       "op": "patch"
      }
     ],
     "key": "kernelspec",
     "op": "patch"
    }
   ]
  }
 },
 "nbformat": 4,
 "nbformat_minor": 4
}
