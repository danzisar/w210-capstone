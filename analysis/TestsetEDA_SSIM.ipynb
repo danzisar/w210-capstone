{
 "cells": [
  {
   "cell_type": "markdown",
   "metadata": {},
   "source": [
    "### Dataset Comparisons\n",
    "\n",
    "Using the SSIM metric, this notebook explores whether we can observe a statistically significant difference between the CIFAR 10 and CIFAR 10.1 test datasets.  \n",
    "\n",
    "To perform this exploration, the team measures the SSIM score between each of the 5k images in each CIFAR10 Training class and the corresponding class images in the two testsets:\n",
    "  * 1k images in the CIFAR10 Test class (Total scores to compare: 5,000,000)\n",
    "  * 200 images in the CIFAR 10.1 Test class (Total scores to compare: 1,000,000)\n",
    "\n",
    "Using the SSIM scores generated from these comparisons, we then test for statistical significance between the two testsets.  "
   ]
  },
  {
   "cell_type": "markdown",
   "metadata": {},
   "source": [
    "#### Install Libraries and Packages"
   ]
  },
  {
   "cell_type": "code",
   "execution_count": 102,
   "metadata": {},
   "outputs": [],
   "source": [
    "import numpy as np\n",
    "import skimage.io as skio\n",
    "import skimage.filters as skfilt\n",
    "from skimage import filters\n",
    "from skimage.measure import compare_ssim as ssim\n",
    "from scipy import stats\n",
    "import torchvision\n",
    "import os\n",
    "import pandas as pd\n",
    "from pathlib import Path\n",
    "import re\n",
    "from matplotlib import pyplot as plt\n",
    "%matplotlib inline"
   ]
  },
  {
   "cell_type": "markdown",
   "metadata": {},
   "source": [
    "#### Load the CIFAR Data"
   ]
  },
  {
   "cell_type": "code",
   "execution_count": 51,
   "metadata": {},
   "outputs": [
    {
     "name": "stdout",
     "output_type": "stream",
     "text": [
      "Files already downloaded and verified\n",
      "Files already downloaded and verified\n"
     ]
    }
   ],
   "source": [
    "trainset = torchvision.datasets.CIFAR10(root='./data', train=True, download=True, transform=None)\n",
    "testset = torchvision.datasets.CIFAR10(root='../../data/cifar10/', train=False, download=True)\n",
    "test_labels_CIFAR10 = testset.targets\n",
    "test_data_CIFAR10 = testset.data\n",
    "test_labels_CIFAR101 =np.load('../data/cifar101/cifar10.1_v6_labels.npy')  \n",
    "test_data_CIFAR101 = np.load('../data/cifar101/cifar10.1_v6_data.npy')"
   ]
  },
  {
   "cell_type": "code",
   "execution_count": 119,
   "metadata": {},
   "outputs": [],
   "source": [
    "# Create a dictionary that maps numeric class number to class name\n",
    "class_dict = {0: \"airplane\",\n",
    "              1: \"automobile\",\n",
    "              2: \"bird\",\n",
    "              3: \"cat\",\n",
    "              4: \"deer\",\n",
    "              5: \"dog\",\n",
    "              6: \"frog\",\n",
    "              7: \"horse\",\n",
    "              8: \"ship\",\n",
    "              9: \"truck\"\n",
    "}"
   ]
  },
  {
   "cell_type": "markdown",
   "metadata": {},
   "source": [
    "#### Load the Predicted Results Data"
   ]
  },
  {
   "cell_type": "code",
   "execution_count": 73,
   "metadata": {},
   "outputs": [],
   "source": [
    "to_be_101_df = []\n",
    "to_be_10_df = []\n",
    "\n",
    "p1 = re.compile(\"predictions_(.+?)(_cifar101){0,1}.npz\")\n",
    "p2 = re.compile(\"([\\d]+)(_refined)?(\\d*)\")\n",
    "p3 = re.compile(\"ra_(\\d+)_(\\d+)\")\n",
    "\n",
    "for path in Path('../original_model_results').rglob('*.npz'):\n",
    "    model = str(path.parent)\n",
    "    srch1 = p1.search((path.name).lower())\n",
    "    g1 = srch1.group(1)\n",
    "    epochs, refined_epochs = 0, 0\n",
    "    N, M = 0, 0 \n",
    "    \n",
    "    if 'refined' in g1:\n",
    "        epochs = 400\n",
    "        srch2 = p2.search(g1, re.IGNORECASE)\n",
    "        if srch2.group(2) != None:\n",
    "            refined_epochs = srch2.group(3)\n",
    "        else:\n",
    "            refined_epochs = srch2.group(1)\n",
    "\n",
    "    else:\n",
    "        epochs = g1   \n",
    "    \n",
    "    testset = 'cifar101' in (path.name).lower()\n",
    "    rand_aug = \"ra_\" in str(path.parent).lower()\n",
    "    refined = \"refined\" in (path.name).lower()\n",
    "    npzf = np.load(path)\n",
    "    \n",
    "    if rand_aug:\n",
    "        srch3 = p3.search(model.lower())\n",
    "        N = int(srch3.group(1))\n",
    "        M = int(srch3.group(2))\n",
    "        \n",
    "    if testset:\n",
    "        result_by_img = test_labels_CIFAR101 == npzf['labels']\n",
    "        to_be_101_df.append([model,testset,rand_aug,int(epochs),int(refined_epochs), N, M] + result_by_img.tolist())\n",
    "    else:\n",
    "        result_by_img = test_labels_CIFAR10 == npzf['labels']\n",
    "        to_be_10_df.append([model,testset,rand_aug,int(epochs),int(refined_epochs), N, M] \n",
    "                           + result_by_img.tolist())\n",
    "        \n",
    "results_cifar101 = pd.DataFrame(to_be_101_df) \n",
    "results_cifar101.rename(columns=lambda x: 'img' + str(x-7), inplace=True)\n",
    "results_cifar101.rename(columns = {'img-7':\"model\", 'img-6':\"cifar101\", 'img-5':\"randaug\",\n",
    "                                   'img-4':\"epochs\", 'img-3':\"refined_epochs\",\n",
    "                                   'img-2':\"N\", 'img-1':\"M\"\n",
    "                                  }, inplace=True)\n",
    "\n",
    "results_cifar10 = pd.DataFrame(to_be_10_df) \n",
    "results_cifar10.rename(columns=lambda x: 'img' + str(x-7), inplace=True)\n",
    "results_cifar10.rename(columns = {'img-7':\"model\", 'img-6':\"cifar101\", 'img-5':\"randaug\",\n",
    "                                  'img-4':\"epochs\", 'img-3':\"refined_epochs\",\n",
    "                                  'img-2':\"N\", 'img-1':\"M\"\n",
    "                                 }, inplace=True)\n",
    "\n",
    "results_cifar101 = results_cifar101[results_cifar101.groupby(['model'])['epochs']\n",
    "                                    .transform(max) == results_cifar101['epochs']]\n",
    "results_cifar10 = results_cifar10[results_cifar10.groupby(['model'])['epochs']\n",
    "                                    .transform(max) == results_cifar10['epochs']]\n",
    "\n",
    "results_cifar10_noaug = results_cifar10[results_cifar10[\"randaug\"]==False]\n",
    "results_cifar101_noaug = results_cifar101[results_cifar101[\"randaug\"]==False]\n",
    "\n",
    "imgs = [col for col in results_cifar10_noaug.columns if 'img' in col]\n",
    "img_preds10 = results_cifar10_noaug[imgs].sum(axis=0)\n",
    "\n",
    "imgs = [col for col in results_cifar101_noaug.columns if 'img' in col]\n",
    "img_preds101 = results_cifar101_noaug[imgs].sum(axis=0)"
   ]
  },
  {
   "cell_type": "code",
   "execution_count": 74,
   "metadata": {},
   "outputs": [
    {
     "data": {
      "text/plain": [
       "count    10000.00000\n",
       "mean         6.61310\n",
       "std          1.20306\n",
       "min          0.00000\n",
       "25%          7.00000\n",
       "50%          7.00000\n",
       "75%          7.00000\n",
       "max          7.00000\n",
       "dtype: float64"
      ]
     },
     "execution_count": 74,
     "metadata": {},
     "output_type": "execute_result"
    }
   ],
   "source": [
    "img_preds10.describe()"
   ]
  },
  {
   "cell_type": "code",
   "execution_count": 75,
   "metadata": {},
   "outputs": [
    {
     "data": {
      "text/plain": [
       "count    2000.000000\n",
       "mean        6.113000\n",
       "std         1.797456\n",
       "min         0.000000\n",
       "25%         6.000000\n",
       "50%         7.000000\n",
       "75%         7.000000\n",
       "max         7.000000\n",
       "dtype: float64"
      ]
     },
     "execution_count": 75,
     "metadata": {},
     "output_type": "execute_result"
    }
   ],
   "source": [
    "img_preds101.describe()"
   ]
  },
  {
   "cell_type": "code",
   "execution_count": 76,
   "metadata": {},
   "outputs": [],
   "source": [
    "# Retrieve the IDs of all images that all models predicted incorrectly for CIFAR 10.1\n",
    "zero = img_preds101[img_preds101 == 0]\n",
    "unaug_cifar101_allwrong = zero.index\n",
    "\n",
    "# Retrieve the IDs of all images that all models predicted incorrectly for CIFAR 10\n",
    "zero = img_preds10[img_preds10 == 0]\n",
    "unaug_cifar10_allwrong = zero.index\n",
    "\n",
    "# Retrieve the IDs of all images that 7 or more models predicted correctly for CIFAR 10\n",
    "threshold = 7\n",
    "zero = img_preds10[img_preds10 >= threshold]\n",
    "unaug_cifar10_allright = zero.index\n",
    "\n",
    "# Retireve the IDs of all images that 7 or more models predicted correctly for CIFAR 10.1\n",
    "threshold = 7\n",
    "zero = img_preds101[img_preds101 >= threshold]\n",
    "unaug_cifar101_allright = zero.index"
   ]
  },
  {
   "cell_type": "code",
   "execution_count": 78,
   "metadata": {},
   "outputs": [
    {
     "name": "stdout",
     "output_type": "stream",
     "text": [
      "Number of unaug_cifar101_allwrong 68\n",
      "Number of unaug_cifar10_allwrong 105\n",
      "Number of unaug_cifar10_allright 8583\n",
      "Number of unaug_cifar101_allright 1426\n"
     ]
    }
   ],
   "source": [
    "print(\"Number of unaug_cifar101_allwrong\", len(unaug_cifar101_allwrong))\n",
    "print(\"Number of unaug_cifar10_allwrong\", len(unaug_cifar10_allwrong))\n",
    "print(\"Number of unaug_cifar10_allright\", len(unaug_cifar10_allright))\n",
    "print(\"Number of unaug_cifar101_allright\", len(unaug_cifar101_allright))"
   ]
  },
  {
   "cell_type": "markdown",
   "metadata": {},
   "source": [
    "#### Function Definitions"
   ]
  },
  {
   "cell_type": "code",
   "execution_count": 96,
   "metadata": {},
   "outputs": [],
   "source": [
    "# Given a dataset and its corresponding labels, break the dataset into \n",
    "# its respective classes.  Return the result as a dictionary of lists\n",
    "# where the keys of the dictionary represent the class label.\n",
    "def dataset_byclass(dataset, labels):\n",
    "    \n",
    "    class_lists = {0: [], 1: [], 2: [], 3: [], 4: [],\n",
    "                   5: [], 6: [], 7: [], 8: [], 9: []\n",
    "                  }\n",
    "    \n",
    "    for l,i in zip(labels, dataset):\n",
    "        #class_counts[l] += 1\n",
    "        class_lists[l].append(i)\n",
    "        \n",
    "    return class_lists\n",
    "\n",
    "\n",
    "# Compare quantity 'sample_size' of images from train to each element of \n",
    "# the class in c10set and c101set\n",
    "def ssim_byclass(trainset, c10set, c101set, train_sample_size, c10_sample_size, c101_sample_size):\n",
    "      \n",
    "    train_v_c10 = {0: [], 1: [], 2: [], 3: [], 4: [],\n",
    "                   5: [], 6: [], 7: [], 8: [], 9: []}\n",
    "    train_v_c101 = {0: [], 1: [], 2: [], 3: [], 4: [],\n",
    "                   5: [], 6: [], 7: [], 8: [], 9: []}\n",
    "    \n",
    "    for tk in sorted(trainset.keys()):\n",
    "        for ts in random.sample(trainset[tk], k=train_sample_size):\n",
    "            for i in random.sample(c10set[tk], k=c10_sample_size):\n",
    "                train_v_c10[tk].append(ssim(ts, i, multichannel=True))\n",
    "            for i in random.sample(c101set[tk], k=c101_sample_size):\n",
    "                train_v_c101[tk].append(ssim(ts, i, multichannel=True))\n",
    "            \n",
    "    return train_v_c10, train_v_c101\n",
    "\n",
    "# Compare quantity all images from trainset to each element of the class in \n",
    "# c10set and c101set\n",
    "def ssim_byclass2(trainset, c10set, c101set):\n",
    "\n",
    "    train_v_c10 = {0: [], 1: [], 2: [], 3: [], 4: [],\n",
    "                   5: [], 6: [], 7: [], 8: [], 9: []}\n",
    "    train_v_c101 = {0: [], 1: [], 2: [], 3: [], 4: [],\n",
    "                   5: [], 6: [], 7: [], 8: [], 9: []}\n",
    "    \n",
    "    for tk in sorted(trainset.keys()):\n",
    "        for ts in trainset[tk]:\n",
    "            for i in c10set[tk]:\n",
    "                train_v_c10[tk].append(ssim(ts, i, multichannel=True))\n",
    "            for i in c101set[tk]:\n",
    "                train_v_c101[tk].append(ssim(ts, i, multichannel=True))\n",
    "            \n",
    "    return train_v_c10, train_v_c101"
   ]
  },
  {
   "cell_type": "code",
   "execution_count": 97,
   "metadata": {},
   "outputs": [],
   "source": [
    "train = dataset_byclass(trainset.data, trainset.targets)\n",
    "c10 = dataset_byclass(test_data_CIFAR10, test_labels_CIFAR10)\n",
    "c101 = dataset_byclass(test_data_CIFAR101, test_labels_CIFAR101)\n",
    "\n",
    "allright10 = [int(sub[ 3: ]) for sub in list(unaug_cifar10_allright)] \n",
    "allright101 = [int(sub[ 3: ]) for sub in list(unaug_cifar101_allright)] \n",
    "allwrong10 = [int(sub[ 3: ]) for sub in list(unaug_cifar10_allwrong)] \n",
    "allwrong101 = [int(sub[ 3: ]) for sub in list(unaug_cifar101_allwrong)]\n",
    "\n",
    "allright10_labels = [test_labels_CIFAR10[i] for i in allright10]\n",
    "allright10_data = [test_data_CIFAR10[i] for i in allright10]\n",
    "\n",
    "allright101_labels = [test_labels_CIFAR101[i] for i in allright101]\n",
    "allright101_data = [test_data_CIFAR101[i] for i in allright101]\n",
    "\n",
    "allwrong10_labels = [test_labels_CIFAR10[i] for i in allwrong10]\n",
    "allwrong10_data = [test_data_CIFAR10[i] for i in allwrong10] \n",
    "\n",
    "allwrong101_labels = [test_labels_CIFAR101[i] for i in allwrong101] \n",
    "allwrong101_data = [test_data_CIFAR101[i] for i in allwrong101]  \n",
    "\n",
    "allright10_dict = dataset_byclass(allright10_data, allright10_labels)\n",
    "allright101_dict = dataset_byclass(allright101_data, allright101_labels)\n",
    "\n",
    "allwrong10_dict = dataset_byclass(allwrong10_data, allwrong10_labels)\n",
    "allwrong101_dict = dataset_byclass(allwrong101_data, allwrong101_labels)"
   ]
  },
  {
   "cell_type": "code",
   "execution_count": 82,
   "metadata": {},
   "outputs": [
    {
     "name": "stdout",
     "output_type": "stream",
     "text": [
      "CIFAR10 Testset: Number of Images by Class Predicted Correctly by Every Model\n",
      "0 876\n",
      "1 941\n",
      "2 813\n",
      "3 690\n",
      "4 863\n",
      "5 785\n",
      "6 908\n",
      "7 890\n",
      "8 919\n",
      "9 898\n",
      "CIFAR10.1 Testset: Number of Images by Class Predicted Correctly by Every Model\n",
      "0 122\n",
      "1 126\n",
      "2 140\n",
      "3 110\n",
      "4 151\n",
      "5 133\n",
      "6 158\n",
      "7 161\n",
      "8 158\n",
      "9 167\n",
      "CIFAR10 Testset: Number of Images by Class Predicted Incorrectly by Every Model\n",
      "0 7\n",
      "1 6\n",
      "2 15\n",
      "3 21\n",
      "4 8\n",
      "5 18\n",
      "6 5\n",
      "7 10\n",
      "8 7\n",
      "9 8\n",
      "CIFAR10.1 Testset: Number of Images by Class Predicted Incorrectly by Every Model\n",
      "0 10\n",
      "1 16\n",
      "2 3\n",
      "3 14\n",
      "4 2\n",
      "5 7\n",
      "6 2\n",
      "7 4\n",
      "8 6\n",
      "9 4\n"
     ]
    }
   ],
   "source": [
    "# Take a look at the distribution by class of what we always guess correctly\n",
    "for d, t in zip([allright10_dict, allright101_dict], [\"CIFAR10\",\"CIFAR10.1\"]):\n",
    "    print(t, \"Testset: Number of Images by Class Predicted Correctly by Every Model\")\n",
    "    for x in d: \n",
    "        if isinstance(d[x], list): \n",
    "            print(x, len(d[x])) \n",
    "            \n",
    "# Take a look at the distribution by class of what we always guess incorrectly\n",
    "for d, t in zip([allwrong10_dict, allwrong101_dict], [\"CIFAR10\",\"CIFAR10.1\"]):\n",
    "    print(t, \"Testset: Number of Images by Class Predicted Incorrectly by Every Model\")\n",
    "    for x in d: \n",
    "        if isinstance(d[x], list): \n",
    "            print(x, len(d[x])) "
   ]
  },
  {
   "cell_type": "code",
   "execution_count": 83,
   "metadata": {},
   "outputs": [],
   "source": [
    "train_v_c10, train_v_c101 = ssim_byclass(train, c10, c101, 5000, 1000, 200)"
   ]
  },
  {
   "cell_type": "code",
   "execution_count": 85,
   "metadata": {},
   "outputs": [],
   "source": [
    "train_v_allrightc10, train_v_allrightc101 = ssim_byclass2(train, allright10_dict, allright101_dict)"
   ]
  },
  {
   "cell_type": "code",
   "execution_count": 126,
   "metadata": {},
   "outputs": [],
   "source": [
    "train_v_allwrongc10, train_v_allwrongc101 = ssim_byclass2(train, allwrong10_dict, allwrong101_dict)"
   ]
  },
  {
   "cell_type": "markdown",
   "metadata": {},
   "source": [
    "#### Results Analysis"
   ]
  },
  {
   "cell_type": "markdown",
   "metadata": {},
   "source": [
    "##### SSIM Score Visualization & T-Test for Entire Datasets"
   ]
  },
  {
   "cell_type": "code",
   "execution_count": 125,
   "metadata": {},
   "outputs": [
    {
     "data": {
      "image/png": "[encoded data removed]",
      "text/plain": [
       "<Figure size 1440x432 with 20 Axes>"
      ]
     },
     "metadata": {
      "needs_background": "light"
     },
     "output_type": "display_data"
    }
   ],
   "source": [
    "fig, ax = plt.subplots(2,10, figsize=(20, 6), sharex=True)\n",
    "\n",
    "# Plot information entropy for each dataset, by class\n",
    "for row, ds, max_y in zip(ax, [train_v_c10, train_v_c101], [900000, 180000]):\n",
    "    \n",
    "    # Variable to represent class\n",
    "    i = 0 \n",
    "    col = 0\n",
    "    for c in row:\n",
    "        if col != 0:\n",
    "            c.get_yaxis().set_visible(False)\n",
    "        c.set_title(class_dict[col])\n",
    "        c.set_ylim(0,max_y)\n",
    "        c.hist(ds[i], bins=50)\n",
    "        col += 1\n",
    "        i += 1"
   ]
  },
  {
   "cell_type": "code",
   "execution_count": 116,
   "metadata": {},
   "outputs": [
    {
     "data": {
      "text/plain": [
       "[Ttest_indResult(statistic=155.98191081137966, pvalue=0.0),\n",
       " Ttest_indResult(statistic=78.81138916125342, pvalue=0.0),\n",
       " Ttest_indResult(statistic=89.80735325046493, pvalue=0.0),\n",
       " Ttest_indResult(statistic=21.04724585353877, pvalue=2.4435875139488683e-98),\n",
       " Ttest_indResult(statistic=65.38791278952095, pvalue=0.0),\n",
       " Ttest_indResult(statistic=17.72005811003707, pvalue=2.9482525551671783e-70),\n",
       " Ttest_indResult(statistic=51.351558568194335, pvalue=0.0),\n",
       " Ttest_indResult(statistic=32.63201886361427, pvalue=1.5118074625697855e-233),\n",
       " Ttest_indResult(statistic=58.40269746412311, pvalue=0.0),\n",
       " Ttest_indResult(statistic=28.97561630755167, pvalue=1.3750520725709206e-184)]"
      ]
     },
     "execution_count": 116,
     "metadata": {},
     "output_type": "execute_result"
    }
   ],
   "source": [
    "# Calcualte t-scores/p-scores for each class\n",
    "scores = []\n",
    "for i in range(len(train_v_c10)):\n",
    "    scores.append(stats.ttest_ind(train_v_c10[i],train_v_c101[i]))\n",
    "scores"
   ]
  },
  {
   "cell_type": "markdown",
   "metadata": {},
   "source": [
    "##### SSIM Score Visualization & T-Test for Images that all Models Got Correct"
   ]
  },
  {
   "cell_type": "code",
   "execution_count": 124,
   "metadata": {},
   "outputs": [
    {
     "data": {
      "image/png": "[encoded data removed]",
      "text/plain": [
       "<Figure size 1440x432 with 20 Axes>"
      ]
     },
     "metadata": {
      "needs_background": "light"
     },
     "output_type": "display_data"
    }
   ],
   "source": [
    "fig, ax = plt.subplots(2,10, figsize=(20, 6), sharex=True)\n",
    "\n",
    "# Plot information entropy for each dataset, by class\n",
    "for row, ds, max_y in zip(ax, [train_v_allrightc10, train_v_allrightc101], [700000, 120000]):\n",
    "    \n",
    "    # Variable to represent class\n",
    "    i = 0 \n",
    "    col = 0\n",
    "    for c in row:\n",
    "        if col != 0:\n",
    "            c.get_yaxis().set_visible(False)\n",
    "        c.set_title(class_dict[col])\n",
    "        c.set_ylim(0,max_y)\n",
    "        c.hist(ds[i], bins=50)\n",
    "        col += 1\n",
    "        i += 1\n",
    "        "
   ]
  },
  {
   "cell_type": "code",
   "execution_count": 111,
   "metadata": {},
   "outputs": [
    {
     "data": {
      "text/plain": [
       "[Ttest_indResult(statistic=98.86278629958674, pvalue=0.0),\n",
       " Ttest_indResult(statistic=57.42415956833981, pvalue=0.0),\n",
       " Ttest_indResult(statistic=50.63675482190924, pvalue=0.0),\n",
       " Ttest_indResult(statistic=23.3433231536695, pvalue=1.6413817479088793e-120),\n",
       " Ttest_indResult(statistic=44.47183670587719, pvalue=0.0),\n",
       " Ttest_indResult(statistic=22.98941541173574, pvalue=6.040018644163526e-117),\n",
       " Ttest_indResult(statistic=34.82605346570019, pvalue=1.051449759210567e-265),\n",
       " Ttest_indResult(statistic=30.93234428061471, pvalue=4.585553407252123e-210),\n",
       " Ttest_indResult(statistic=26.49222085703321, pvalue=1.2190723337020505e-154),\n",
       " Ttest_indResult(statistic=36.63858356069604, pvalue=7.569981334570042e-294)]"
      ]
     },
     "execution_count": 111,
     "metadata": {},
     "output_type": "execute_result"
    }
   ],
   "source": [
    "# Calcualte t-scores/p-scores for each class\n",
    "scores_allright = []\n",
    "for i in range(len(train_v_allrightc10)):\n",
    "    scores_allright.append(stats.ttest_ind(train_v_allrightc10[i],train_v_allrightc101[i]))\n",
    "scores_allright"
   ]
  },
  {
   "cell_type": "markdown",
   "metadata": {},
   "source": [
    "##### SSIM Score Visualization & T-Test for Images that all Models Got Wrong"
   ]
  },
  {
   "cell_type": "code",
   "execution_count": 123,
   "metadata": {},
   "outputs": [
    {
     "data": {
      "image/png": "[encoded data removed]",
      "text/plain": [
       "<Figure size 1440x432 with 20 Axes>"
      ]
     },
     "metadata": {
      "needs_background": "light"
     },
     "output_type": "display_data"
    }
   ],
   "source": [
    "fig, ax = plt.subplots(2,10, figsize=(20, 6), sharex=True)\n",
    "\n",
    "# Plot information entropy for each dataset, by class\n",
    "for row, ds, max_y in zip(ax, [train_v_allwrongc10, train_v_allwrongc101], [10000, 6000]):\n",
    "    \n",
    "    # Variable to represent class\n",
    "    i = 0 \n",
    "    col = 0\n",
    "    for c in row:\n",
    "        if col != 0:\n",
    "            c.get_yaxis().set_visible(False)\n",
    "        c.set_title(class_dict[col])\n",
    "        c.set_ylim(0,max_y)\n",
    "        c.hist(ds[i], bins=50)\n",
    "        col += 1\n",
    "        i += 1    "
   ]
  },
  {
   "cell_type": "code",
   "execution_count": 117,
   "metadata": {},
   "outputs": [
    {
     "data": {
      "text/plain": [
       "[Ttest_indResult(statistic=12.316326146577303, pvalue=7.923372409325739e-35),\n",
       " Ttest_indResult(statistic=24.566544822726616, pvalue=6.586076204220349e-133),\n",
       " Ttest_indResult(statistic=-0.8627609520187562, pvalue=0.38827121134026654),\n",
       " Ttest_indResult(statistic=-11.136175627672582, pvalue=8.55212746765639e-29),\n",
       " Ttest_indResult(statistic=34.17359308870803, pvalue=4.979509889876785e-253),\n",
       " Ttest_indResult(statistic=-21.878225960286716, pvalue=6.627629255598769e-106),\n",
       " Ttest_indResult(statistic=19.728959521071, pvalue=3.581367409531655e-86),\n",
       " Ttest_indResult(statistic=10.402218909057797, pvalue=2.5275335780759475e-25),\n",
       " Ttest_indResult(statistic=-1.2390079980171738, pvalue=0.2153470102201569),\n",
       " Ttest_indResult(statistic=-30.649005018769618, pvalue=1.0447442488778005e-204)]"
      ]
     },
     "execution_count": 117,
     "metadata": {},
     "output_type": "execute_result"
    }
   ],
   "source": [
    "# Calcualte t-scores/p-scores for each class\n",
    "scores_allwrong = []\n",
    "for i in range(len(train_v_allrightc10)):\n",
    "    scores_allwrong.append(stats.ttest_ind(train_v_allwrongc10[i],train_v_allwrongc101[i]))\n",
    "scores_allwrong"
   ]
  },
  {
   "cell_type": "markdown",
   "metadata": {},
   "source": [
    "**The p-values, while still statistically significant in this subset (the images all models get wrong), are smaller across all classes when compared to the p-scores observed when testing values between both all images in the datasets and the images that all models get correct.**   "
   ]
  },
  {
   "cell_type": "code",
   "execution_count": null,
   "metadata": {},
   "outputs": [],
   "source": []
  }
 ],
 "metadata": {
  "kernelspec": {
   "display_name": "conda_pytorch_p36",
   "language": "python",
   "name": "conda_pytorch_p36"
  },
  "language_info": {
   "codemirror_mode": {
    "name": "ipython",
    "version": 3
   },
   "file_extension": ".py",
   "mimetype": "text/x-python",
   "name": "python",
   "nbconvert_exporter": "python",
   "pygments_lexer": "ipython3",
   "version": "3.6.10"
  }
 },
 "nbformat": 4,
 "nbformat_minor": 4
}
